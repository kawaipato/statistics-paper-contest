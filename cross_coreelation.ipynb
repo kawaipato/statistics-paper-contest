{
 "cells": [
  {
   "cell_type": "code",
   "execution_count": 1,
   "id": "89546a49",
   "metadata": {},
   "outputs": [],
   "source": [
    "import pandas as pd\n",
    "import numpy as np\n",
    "import matplotlib.pyplot as plt"
   ]
  },
  {
   "cell_type": "code",
   "execution_count": 73,
   "id": "fc410c9e",
   "metadata": {},
   "outputs": [],
   "source": [
    "path = \"/Users/seoihwan/Desktop/escuela/통계청 공모전\"\n",
    "money = pd.read_csv(path+'/money.csv',encoding='utf-8')\n",
    "marry = pd.read_csv(path+'/marry.csv',encoding='utf-8')"
   ]
  },
  {
   "cell_type": "code",
   "execution_count": 27,
   "id": "289f4d0c",
   "metadata": {},
   "outputs": [
    {
     "data": {
      "text/html": [
       "<div>\n",
       "<style scoped>\n",
       "    .dataframe tbody tr th:only-of-type {\n",
       "        vertical-align: middle;\n",
       "    }\n",
       "\n",
       "    .dataframe tbody tr th {\n",
       "        vertical-align: top;\n",
       "    }\n",
       "\n",
       "    .dataframe thead th {\n",
       "        text-align: right;\n",
       "    }\n",
       "</style>\n",
       "<table border=\"1\" class=\"dataframe\">\n",
       "  <thead>\n",
       "    <tr style=\"text-align: right;\">\n",
       "      <th></th>\n",
       "      <th>Unnamed: 0</th>\n",
       "      <th>시간급 최저임금</th>\n",
       "      <th>전년대비 인상률(%)</th>\n",
       "      <th>영향률(%)</th>\n",
       "      <th>적용대상 근로자수</th>\n",
       "      <th>수혜 근로자 수</th>\n",
       "    </tr>\n",
       "  </thead>\n",
       "  <tbody>\n",
       "    <tr>\n",
       "      <th>0</th>\n",
       "      <td>1988</td>\n",
       "      <td>-</td>\n",
       "      <td>-</td>\n",
       "      <td>4.2</td>\n",
       "      <td>2,267</td>\n",
       "      <td>94</td>\n",
       "    </tr>\n",
       "    <tr>\n",
       "      <th>1</th>\n",
       "      <td>1989</td>\n",
       "      <td>600</td>\n",
       "      <td>26.3</td>\n",
       "      <td>10.7</td>\n",
       "      <td>3,053</td>\n",
       "      <td>328</td>\n",
       "    </tr>\n",
       "    <tr>\n",
       "      <th>2</th>\n",
       "      <td>1990</td>\n",
       "      <td>690</td>\n",
       "      <td>15</td>\n",
       "      <td>4.3</td>\n",
       "      <td>4,386</td>\n",
       "      <td>187</td>\n",
       "    </tr>\n",
       "    <tr>\n",
       "      <th>3</th>\n",
       "      <td>1991</td>\n",
       "      <td>820</td>\n",
       "      <td>18.8</td>\n",
       "      <td>8.6</td>\n",
       "      <td>4,556</td>\n",
       "      <td>393</td>\n",
       "    </tr>\n",
       "    <tr>\n",
       "      <th>4</th>\n",
       "      <td>1992</td>\n",
       "      <td>925</td>\n",
       "      <td>12.8</td>\n",
       "      <td>8.5</td>\n",
       "      <td>4,620</td>\n",
       "      <td>392</td>\n",
       "    </tr>\n",
       "  </tbody>\n",
       "</table>\n",
       "</div>"
      ],
      "text/plain": [
       "   Unnamed: 0 시간급 최저임금 전년대비 인상률(%)  영향률(%) 적용대상 근로자수 수혜 근로자 수\n",
       "0        1988        -           -     4.2     2,267       94\n",
       "1        1989      600        26.3    10.7     3,053      328\n",
       "2        1990      690          15     4.3     4,386      187\n",
       "3        1991      820        18.8     8.6     4,556      393\n",
       "4        1992      925        12.8     8.5     4,620      392"
      ]
     },
     "execution_count": 27,
     "metadata": {},
     "output_type": "execute_result"
    }
   ],
   "source": [
    "money.head()"
   ]
  },
  {
   "cell_type": "code",
   "execution_count": 75,
   "id": "de4833ea",
   "metadata": {},
   "outputs": [],
   "source": [
    "money2=money[9:-1]"
   ]
  },
  {
   "cell_type": "code",
   "execution_count": 76,
   "id": "f7bc698e",
   "metadata": {},
   "outputs": [
    {
     "data": {
      "text/plain": [
       "Index(['Unnamed: 0', '시간급 최저임금', '전년대비 인상률(%)', '영향률(%)', '적용대상 근로자수',\n",
       "       '수혜 근로자 수'],\n",
       "      dtype='object')"
      ]
     },
     "execution_count": 76,
     "metadata": {},
     "output_type": "execute_result"
    }
   ],
   "source": [
    "money2.columns"
   ]
  },
  {
   "cell_type": "code",
   "execution_count": 77,
   "id": "042f179e",
   "metadata": {},
   "outputs": [],
   "source": [
    "m=money2.iloc[:,1]"
   ]
  },
  {
   "cell_type": "code",
   "execution_count": 133,
   "id": "5c2bfe6b",
   "metadata": {},
   "outputs": [
    {
     "data": {
      "text/plain": [
       "Text(0.5, 1.0, 'money')"
      ]
     },
     "execution_count": 133,
     "metadata": {},
     "output_type": "execute_result"
    },
    {
     "data": {
      "image/png": "[encoded data removed]",
      "text/plain": [
       "<Figure size 640x480 with 1 Axes>"
      ]
     },
     "metadata": {},
     "output_type": "display_data"
    }
   ],
   "source": [
    "plt.plot(range(1997,2023),m)\n",
    "plt.title('money')"
   ]
  },
  {
   "cell_type": "code",
   "execution_count": 74,
   "id": "b0844ebc",
   "metadata": {},
   "outputs": [
    {
     "data": {
      "text/html": [
       "<div>\n",
       "<style scoped>\n",
       "    .dataframe tbody tr th:only-of-type {\n",
       "        vertical-align: middle;\n",
       "    }\n",
       "\n",
       "    .dataframe tbody tr th {\n",
       "        vertical-align: top;\n",
       "    }\n",
       "\n",
       "    .dataframe thead th {\n",
       "        text-align: right;\n",
       "    }\n",
       "</style>\n",
       "<table border=\"1\" class=\"dataframe\">\n",
       "  <thead>\n",
       "    <tr style=\"text-align: right;\">\n",
       "      <th></th>\n",
       "      <th>시군구별</th>\n",
       "      <th>전국</th>\n",
       "      <th>서울특별시</th>\n",
       "      <th>부산광역시</th>\n",
       "      <th>대구광역시</th>\n",
       "      <th>인천광역시</th>\n",
       "      <th>광주광역시</th>\n",
       "      <th>대전광역시</th>\n",
       "      <th>울산광역시</th>\n",
       "      <th>세종특별자치시</th>\n",
       "      <th>경기도</th>\n",
       "      <th>강원도</th>\n",
       "      <th>충청북도</th>\n",
       "      <th>충청남도</th>\n",
       "      <th>전라북도</th>\n",
       "      <th>전라남도</th>\n",
       "      <th>경상북도</th>\n",
       "      <th>경상남도</th>\n",
       "      <th>제주특별자치도</th>\n",
       "      <th>국외</th>\n",
       "    </tr>\n",
       "  </thead>\n",
       "  <tbody>\n",
       "    <tr>\n",
       "      <th>0</th>\n",
       "      <td>1997</td>\n",
       "      <td>388960</td>\n",
       "      <td>93932</td>\n",
       "      <td>27890</td>\n",
       "      <td>19179</td>\n",
       "      <td>20528</td>\n",
       "      <td>10654</td>\n",
       "      <td>10545</td>\n",
       "      <td>8857</td>\n",
       "      <td>0</td>\n",
       "      <td>76966</td>\n",
       "      <td>11279</td>\n",
       "      <td>11674</td>\n",
       "      <td>13911</td>\n",
       "      <td>14357</td>\n",
       "      <td>14795</td>\n",
       "      <td>21247</td>\n",
       "      <td>23916</td>\n",
       "      <td>4347</td>\n",
       "      <td>4883</td>\n",
       "    </tr>\n",
       "    <tr>\n",
       "      <th>1</th>\n",
       "      <td>1998</td>\n",
       "      <td>373500</td>\n",
       "      <td>88219</td>\n",
       "      <td>27123</td>\n",
       "      <td>18139</td>\n",
       "      <td>19929</td>\n",
       "      <td>10319</td>\n",
       "      <td>10565</td>\n",
       "      <td>8433</td>\n",
       "      <td>0</td>\n",
       "      <td>74603</td>\n",
       "      <td>11470</td>\n",
       "      <td>11172</td>\n",
       "      <td>14046</td>\n",
       "      <td>13306</td>\n",
       "      <td>14291</td>\n",
       "      <td>20174</td>\n",
       "      <td>23384</td>\n",
       "      <td>4259</td>\n",
       "      <td>4068</td>\n",
       "    </tr>\n",
       "    <tr>\n",
       "      <th>2</th>\n",
       "      <td>1999</td>\n",
       "      <td>360407</td>\n",
       "      <td>85215</td>\n",
       "      <td>25495</td>\n",
       "      <td>17850</td>\n",
       "      <td>18718</td>\n",
       "      <td>10303</td>\n",
       "      <td>10311</td>\n",
       "      <td>7670</td>\n",
       "      <td>0</td>\n",
       "      <td>72081</td>\n",
       "      <td>11064</td>\n",
       "      <td>10696</td>\n",
       "      <td>13375</td>\n",
       "      <td>13183</td>\n",
       "      <td>14024</td>\n",
       "      <td>19051</td>\n",
       "      <td>22180</td>\n",
       "      <td>4426</td>\n",
       "      <td>4765</td>\n",
       "    </tr>\n",
       "    <tr>\n",
       "      <th>3</th>\n",
       "      <td>2000</td>\n",
       "      <td>332090</td>\n",
       "      <td>78745</td>\n",
       "      <td>23343</td>\n",
       "      <td>16124</td>\n",
       "      <td>17857</td>\n",
       "      <td>9557</td>\n",
       "      <td>9664</td>\n",
       "      <td>6890</td>\n",
       "      <td>-</td>\n",
       "      <td>69160</td>\n",
       "      <td>9898</td>\n",
       "      <td>9586</td>\n",
       "      <td>12097</td>\n",
       "      <td>11362</td>\n",
       "      <td>12069</td>\n",
       "      <td>17061</td>\n",
       "      <td>19900</td>\n",
       "      <td>4022</td>\n",
       "      <td>4755</td>\n",
       "    </tr>\n",
       "    <tr>\n",
       "      <th>4</th>\n",
       "      <td>2001</td>\n",
       "      <td>318407</td>\n",
       "      <td>77376</td>\n",
       "      <td>21825</td>\n",
       "      <td>14833</td>\n",
       "      <td>17066</td>\n",
       "      <td>8765</td>\n",
       "      <td>9505</td>\n",
       "      <td>6730</td>\n",
       "      <td>-</td>\n",
       "      <td>68516</td>\n",
       "      <td>9162</td>\n",
       "      <td>9325</td>\n",
       "      <td>11113</td>\n",
       "      <td>10281</td>\n",
       "      <td>10772</td>\n",
       "      <td>15884</td>\n",
       "      <td>18849</td>\n",
       "      <td>3708</td>\n",
       "      <td>4697</td>\n",
       "    </tr>\n",
       "  </tbody>\n",
       "</table>\n",
       "</div>"
      ],
      "text/plain": [
       "   시군구별      전국  서울특별시  부산광역시  대구광역시  인천광역시  광주광역시  대전광역시  울산광역시 세종특별자치시  \\\n",
       "0  1997  388960  93932  27890  19179  20528  10654  10545   8857       0   \n",
       "1  1998  373500  88219  27123  18139  19929  10319  10565   8433       0   \n",
       "2  1999  360407  85215  25495  17850  18718  10303  10311   7670       0   \n",
       "3  2000  332090  78745  23343  16124  17857   9557   9664   6890       -   \n",
       "4  2001  318407  77376  21825  14833  17066   8765   9505   6730       -   \n",
       "\n",
       "     경기도    강원도   충청북도   충청남도   전라북도   전라남도   경상북도   경상남도  제주특별자치도    국외  \n",
       "0  76966  11279  11674  13911  14357  14795  21247  23916     4347  4883  \n",
       "1  74603  11470  11172  14046  13306  14291  20174  23384     4259  4068  \n",
       "2  72081  11064  10696  13375  13183  14024  19051  22180     4426  4765  \n",
       "3  69160   9898   9586  12097  11362  12069  17061  19900     4022  4755  \n",
       "4  68516   9162   9325  11113  10281  10772  15884  18849     3708  4697  "
      ]
     },
     "execution_count": 74,
     "metadata": {},
     "output_type": "execute_result"
    }
   ],
   "source": [
    "marry.head()"
   ]
  },
  {
   "cell_type": "code",
   "execution_count": 135,
   "id": "867543a9",
   "metadata": {},
   "outputs": [
    {
     "data": {
      "text/plain": [
       "Text(0.5, 1.0, 'marry')"
      ]
     },
     "execution_count": 135,
     "metadata": {},
     "output_type": "execute_result"
    },
    {
     "data": {
      "image/png": "[encoded data removed]",
      "text/plain": [
       "<Figure size 640x480 with 1 Axes>"
      ]
     },
     "metadata": {},
     "output_type": "display_data"
    }
   ],
   "source": [
    "plt.plot(mar)\n",
    "plt.title('marry')"
   ]
  },
  {
   "cell_type": "code",
   "execution_count": 95,
   "id": "56f93ebe",
   "metadata": {},
   "outputs": [],
   "source": [
    "def crosscorr(x,y,l):\n",
    "    L=[]\n",
    "    for i in range(len(x)-l):\n",
    "        s1=0\n",
    "        s2=0\n",
    "        s3=0\n",
    "        for j in range(i,i+l):\n",
    "            s1+=(x[j]-np.mean(x[i:i+l]))*(y[j]-np.mean(y[i:i+l]))\n",
    "            s2+=(x[j]-np.mean(x[i:i+l]))**2\n",
    "            s3+=(y[j]-np.mean(y[i:i+l]))**2\n",
    "        L.append(s1/((s3**0.5)*(s2**0.5)))\n",
    "    return L"
   ]
  },
  {
   "cell_type": "code",
   "execution_count": 92,
   "id": "e883c836",
   "metadata": {},
   "outputs": [
    {
     "name": "stdout",
     "output_type": "stream",
     "text": [
      "26\n"
     ]
    }
   ],
   "source": [
    "mar=marry.iloc[:,1]\n",
    "print(len(mar))"
   ]
  },
  {
   "cell_type": "code",
   "execution_count": 117,
   "id": "fadc1105",
   "metadata": {},
   "outputs": [
    {
     "ename": "ValueError",
     "evalue": "invalid literal for int() with base 10: '1,400'",
     "output_type": "error",
     "traceback": [
      "\u001b[0;31m---------------------------------------------------------------------------\u001b[0m",
      "\u001b[0;31mValueError\u001b[0m                                Traceback (most recent call last)",
      "Cell \u001b[0;32mIn[117], line 1\u001b[0m\n\u001b[0;32m----> 1\u001b[0m m\u001b[38;5;241m=\u001b[39m\u001b[43mnp\u001b[49m\u001b[38;5;241;43m.\u001b[39;49m\u001b[43marray\u001b[49m\u001b[43m(\u001b[49m\u001b[43mm\u001b[49m\u001b[43m)\u001b[49m\u001b[38;5;241;43m.\u001b[39;49m\u001b[43mastype\u001b[49m\u001b[43m(\u001b[49m\u001b[38;5;28;43mint\u001b[39;49m\u001b[43m)\u001b[49m\n\u001b[1;32m      2\u001b[0m mar\u001b[38;5;241m=\u001b[39mnp\u001b[38;5;241m.\u001b[39marray(mar)\n",
      "\u001b[0;31mValueError\u001b[0m: invalid literal for int() with base 10: '1,400'"
     ]
    }
   ],
   "source": [
    "m=np.array(m)\n",
    "mar=np.array(mar).astype(int)"
   ]
  },
  {
   "cell_type": "code",
   "execution_count": 114,
   "id": "e3d22c09",
   "metadata": {},
   "outputs": [
    {
     "data": {
      "text/plain": [
       "True"
      ]
     },
     "execution_count": 114,
     "metadata": {},
     "output_type": "execute_result"
    }
   ],
   "source": [
    "len(m) == len(mar)"
   ]
  },
  {
   "cell_type": "code",
   "execution_count": 124,
   "id": "f60a386a",
   "metadata": {},
   "outputs": [
    {
     "data": {
      "text/plain": [
       "[-0.6504368106398182,\n",
       " -0.30824369097809784,\n",
       " -0.018319919320871146,\n",
       " 0.2369262136346113,\n",
       " 0.5152037613765326,\n",
       " 0.6181336035098345,\n",
       " 0.5303286426528463,\n",
       " 0.26893606217066846,\n",
       " -0.335556193255055,\n",
       " -0.7435594549079947,\n",
       " -0.8588118032325611,\n",
       " -0.8862309322420411,\n",
       " -0.9247211866337631,\n",
       " -0.9784515270541632,\n",
       " -0.9823069672726734,\n",
       " -0.9732903860665507]"
      ]
     },
     "execution_count": 124,
     "metadata": {},
     "output_type": "execute_result"
    }
   ],
   "source": [
    "crosscorr(m2,mar,10)"
   ]
  },
  {
   "cell_type": "code",
   "execution_count": 108,
   "id": "47f3b44c",
   "metadata": {},
   "outputs": [
    {
     "name": "stdout",
     "output_type": "stream",
     "text": [
      "<built-in method mean of numpy.ndarray object at 0x17781e910>\n"
     ]
    }
   ],
   "source": [
    "np.mean()"
   ]
  },
  {
   "cell_type": "code",
   "execution_count": 118,
   "id": "599315f4",
   "metadata": {},
   "outputs": [],
   "source": [
    "m2=[]\n",
    "for i in range(len(m)):\n",
    "    s=m[i].replace(',','')\n",
    "    m2.append(s)"
   ]
  },
  {
   "cell_type": "code",
   "execution_count": 123,
   "id": "7582b7de",
   "metadata": {},
   "outputs": [],
   "source": [
    "m2=np.array(m2).astype(int)"
   ]
  },
  {
   "cell_type": "code",
   "execution_count": 139,
   "id": "4b7162bd",
   "metadata": {},
   "outputs": [
    {
     "data": {
      "image/png": "[encoded data removed]",
      "text/plain": [
       "<Figure size 640x480 with 1 Axes>"
      ]
     },
     "metadata": {},
     "output_type": "display_data"
    }
   ],
   "source": [
    "ll=[10,15,20]\n",
    "for i in range(len(ll)):\n",
    "    a=crosscorr(m2,mar,ll[i])\n",
    "    plt.plot(range(ll[i],ll[i]+len(a)),a)\n",
    "plt.legend(ll)\n",
    "plt.title('Cross-Correlation l=10,15,20')\n",
    "plt.axhline(0,color='red',linestyle='--')\n",
    "plt.show()"
   ]
  },
  {
   "cell_type": "code",
   "execution_count": 2,
   "id": "18a2cb22",
   "metadata": {},
   "outputs": [],
   "source": [
    "job=pd.read_csv('./job.csv',encoding='cp949')"
   ]
  },
  {
   "cell_type": "code",
   "execution_count": 3,
   "id": "8356ef81",
   "metadata": {},
   "outputs": [
    {
     "data": {
      "text/html": [
       "<div>\n",
       "<style scoped>\n",
       "    .dataframe tbody tr th:only-of-type {\n",
       "        vertical-align: middle;\n",
       "    }\n",
       "\n",
       "    .dataframe tbody tr th {\n",
       "        vertical-align: top;\n",
       "    }\n",
       "\n",
       "    .dataframe thead th {\n",
       "        text-align: right;\n",
       "    }\n",
       "</style>\n",
       "<table border=\"1\" class=\"dataframe\">\n",
       "  <thead>\n",
       "    <tr style=\"text-align: right;\">\n",
       "      <th></th>\n",
       "      <th>성별</th>\n",
       "      <th>시점</th>\n",
       "      <th>계</th>\n",
       "      <th>중졸이하</th>\n",
       "      <th>고졸</th>\n",
       "      <th>대졸이상</th>\n",
       "    </tr>\n",
       "  </thead>\n",
       "  <tbody>\n",
       "    <tr>\n",
       "      <th>0</th>\n",
       "      <td>계</td>\n",
       "      <td>1965</td>\n",
       "      <td>8112</td>\n",
       "      <td>-</td>\n",
       "      <td>-</td>\n",
       "      <td>-</td>\n",
       "    </tr>\n",
       "    <tr>\n",
       "      <th>1</th>\n",
       "      <td>계</td>\n",
       "      <td>1966</td>\n",
       "      <td>8325</td>\n",
       "      <td>-</td>\n",
       "      <td>-</td>\n",
       "      <td>-</td>\n",
       "    </tr>\n",
       "    <tr>\n",
       "      <th>2</th>\n",
       "      <td>계</td>\n",
       "      <td>1967</td>\n",
       "      <td>8624</td>\n",
       "      <td>-</td>\n",
       "      <td>-</td>\n",
       "      <td>-</td>\n",
       "    </tr>\n",
       "    <tr>\n",
       "      <th>3</th>\n",
       "      <td>계</td>\n",
       "      <td>1968</td>\n",
       "      <td>9061</td>\n",
       "      <td>-</td>\n",
       "      <td>-</td>\n",
       "      <td>-</td>\n",
       "    </tr>\n",
       "    <tr>\n",
       "      <th>4</th>\n",
       "      <td>계</td>\n",
       "      <td>1969</td>\n",
       "      <td>9285</td>\n",
       "      <td>-</td>\n",
       "      <td>-</td>\n",
       "      <td>-</td>\n",
       "    </tr>\n",
       "  </tbody>\n",
       "</table>\n",
       "</div>"
      ],
      "text/plain": [
       "  성별    시점     계 중졸이하 고졸 대졸이상\n",
       "0  계  1965  8112    -  -    -\n",
       "1  계  1966  8325    -  -    -\n",
       "2  계  1967  8624    -  -    -\n",
       "3  계  1968  9061    -  -    -\n",
       "4  계  1969  9285    -  -    -"
      ]
     },
     "execution_count": 3,
     "metadata": {},
     "output_type": "execute_result"
    }
   ],
   "source": [
    "job.head()"
   ]
  },
  {
   "cell_type": "code",
   "execution_count": null,
   "id": "5b07fb9f",
   "metadata": {},
   "outputs": [],
   "source": []
  }
 ],
 "metadata": {
  "kernelspec": {
   "display_name": "Python 3 (ipykernel)",
   "language": "python",
   "name": "python3"
  },
  "language_info": {
   "codemirror_mode": {
    "name": "ipython",
    "version": 3
   },
   "file_extension": ".py",
   "mimetype": "text/x-python",
   "name": "python",
   "nbconvert_exporter": "python",
   "pygments_lexer": "ipython3",
   "version": "3.10.9"
  }
 },
 "nbformat": 4,
 "nbformat_minor": 5
}
